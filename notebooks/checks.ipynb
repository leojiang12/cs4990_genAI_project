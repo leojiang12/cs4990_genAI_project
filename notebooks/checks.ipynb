{
 "cells": [
  {
   "cell_type": "code",
   "execution_count": null,
   "id": "937e447f",
   "metadata": {},
   "outputs": [],
   "source": []
  },
  {
   "cell_type": "code",
   "execution_count": 13,
   "id": "ad9d6e77",
   "metadata": {},
   "outputs": [
    {
     "ename": "KeyError",
     "evalue": "\"Couldn’t find pre/post image names in ../data/train/labels/guatemala-volcano_00000000_post_disaster.json\\nAvailable keys: ['sensor', 'provider_asset_type', 'gsd', 'capture_date', 'off_nadir_angle', 'pan_resolution', 'sun_azimuth', 'sun_elevation', 'target_azimuth', 'disaster', 'disaster_type', 'catalog_id', 'original_width', 'original_height', 'width', 'height', 'id', 'img_name']\"",
     "output_type": "error",
     "traceback": [
      "\u001b[0;31m---------------------------------------------------------------------------\u001b[0m",
      "\u001b[0;31mKeyError\u001b[0m                                  Traceback (most recent call last)",
      "Cell \u001b[0;32mIn[13], line 39\u001b[0m\n\u001b[1;32m     36\u001b[0m label_file   \u001b[38;5;241m=\u001b[39m \u001b[38;5;124m'\u001b[39m\u001b[38;5;124m../data/train/labels/guatemala-volcano_00000000_post_disaster.json\u001b[39m\u001b[38;5;124m'\u001b[39m\n\u001b[1;32m     37\u001b[0m images_root  \u001b[38;5;241m=\u001b[39m \u001b[38;5;124m'\u001b[39m\u001b[38;5;124m../data/train/images\u001b[39m\u001b[38;5;124m'\u001b[39m   \u001b[38;5;66;03m# contains subfolders pre_disaster/ and post_disaster/\u001b[39;00m\n\u001b[0;32m---> 39\u001b[0m pre, post \u001b[38;5;241m=\u001b[39m \u001b[43mload_pair_from_label\u001b[49m\u001b[43m(\u001b[49m\u001b[43mlabel_file\u001b[49m\u001b[43m,\u001b[49m\u001b[43m \u001b[49m\u001b[43mimages_root\u001b[49m\u001b[43m)\u001b[49m\n\u001b[1;32m     41\u001b[0m \u001b[38;5;66;03m# display side by side\u001b[39;00m\n\u001b[1;32m     42\u001b[0m fig, (ax1, ax2) \u001b[38;5;241m=\u001b[39m plt\u001b[38;5;241m.\u001b[39msubplots(\u001b[38;5;241m1\u001b[39m,\u001b[38;5;241m2\u001b[39m, figsize\u001b[38;5;241m=\u001b[39m(\u001b[38;5;241m10\u001b[39m,\u001b[38;5;241m5\u001b[39m))\n",
      "Cell \u001b[0;32mIn[13], line 23\u001b[0m, in \u001b[0;36mload_pair_from_label\u001b[0;34m(label_path, images_root)\u001b[0m\n\u001b[1;32m     20\u001b[0m post_name \u001b[38;5;241m=\u001b[39m meta\u001b[38;5;241m.\u001b[39mget(\u001b[38;5;124m'\u001b[39m\u001b[38;5;124mpost_image_name\u001b[39m\u001b[38;5;124m'\u001b[39m)  \u001b[38;5;129;01mor\u001b[39;00m meta\u001b[38;5;241m.\u001b[39mget(\u001b[38;5;124m'\u001b[39m\u001b[38;5;124mscene_post_disaster\u001b[39m\u001b[38;5;124m'\u001b[39m)\n\u001b[1;32m     22\u001b[0m \u001b[38;5;28;01mif\u001b[39;00m pre_name \u001b[38;5;129;01mis\u001b[39;00m \u001b[38;5;28;01mNone\u001b[39;00m \u001b[38;5;129;01mor\u001b[39;00m post_name \u001b[38;5;129;01mis\u001b[39;00m \u001b[38;5;28;01mNone\u001b[39;00m:\n\u001b[0;32m---> 23\u001b[0m     \u001b[38;5;28;01mraise\u001b[39;00m \u001b[38;5;167;01mKeyError\u001b[39;00m(\u001b[38;5;124mf\u001b[39m\u001b[38;5;124m\"\u001b[39m\u001b[38;5;124mCouldn’t find pre/post image names in \u001b[39m\u001b[38;5;132;01m{\u001b[39;00mlabel_path\u001b[38;5;132;01m}\u001b[39;00m\u001b[38;5;130;01m\\n\u001b[39;00m\u001b[38;5;124m\"\u001b[39m\n\u001b[1;32m     24\u001b[0m                    \u001b[38;5;124mf\u001b[39m\u001b[38;5;124m\"\u001b[39m\u001b[38;5;124mAvailable keys: \u001b[39m\u001b[38;5;132;01m{\u001b[39;00m\u001b[38;5;28mlist\u001b[39m(meta\u001b[38;5;241m.\u001b[39mkeys())\u001b[38;5;132;01m}\u001b[39;00m\u001b[38;5;124m\"\u001b[39m)\n\u001b[1;32m     26\u001b[0m \u001b[38;5;66;03m# 3) build full paths and open\u001b[39;00m\n\u001b[1;32m     27\u001b[0m pre_path  \u001b[38;5;241m=\u001b[39m os\u001b[38;5;241m.\u001b[39mpath\u001b[38;5;241m.\u001b[39mjoin(images_root, \u001b[38;5;124m'\u001b[39m\u001b[38;5;124mpre_disaster\u001b[39m\u001b[38;5;124m'\u001b[39m,  pre_name)\n",
      "\u001b[0;31mKeyError\u001b[0m: \"Couldn’t find pre/post image names in ../data/train/labels/guatemala-volcano_00000000_post_disaster.json\\nAvailable keys: ['sensor', 'provider_asset_type', 'gsd', 'capture_date', 'off_nadir_angle', 'pan_resolution', 'sun_azimuth', 'sun_elevation', 'target_azimuth', 'disaster', 'disaster_type', 'catalog_id', 'original_width', 'original_height', 'width', 'height', 'id', 'img_name']\""
     ]
    }
   ],
   "source": [
    "import os, json\n",
    "from PIL import Image\n",
    "import matplotlib.pyplot as plt\n",
    "\n",
    "def load_pair_from_label(label_path, images_root):\n",
    "    \"\"\"\n",
    "    Given the path to an xBD JSON label, and the root directory\n",
    "    where the pre- and post-disaster image folders live,\n",
    "    return a (PIL.Image pre, PIL.Image post) tuple.\n",
    "    \"\"\"\n",
    "    # 1) read the JSON\n",
    "    with open(label_path, 'r') as f:\n",
    "        label = json.load(f)\n",
    "\n",
    "    # 2) figure out which keys point to image files\n",
    "    #    This will vary slightly depending on your release.\n",
    "    #    Common fields are under label['metadata']\n",
    "    meta = label.get('metadata', {})\n",
    "    pre_name  = meta.get('pre_image_name')   or meta.get('scene_pre_disaster') \n",
    "    post_name = meta.get('post_image_name')  or meta.get('scene_post_disaster')\n",
    "\n",
    "    if pre_name is None or post_name is None:\n",
    "        raise KeyError(f\"Couldn’t find pre/post image names in {label_path}\\n\"\n",
    "                       f\"Available keys: {list(meta.keys())}\")\n",
    "\n",
    "    # 3) build full paths and open\n",
    "    pre_path  = os.path.join(images_root, 'pre_disaster',  pre_name)\n",
    "    post_path = os.path.join(images_root, 'post_disaster', post_name)\n",
    "\n",
    "    pre_img  = Image.open(pre_path).convert('RGB')\n",
    "    post_img = Image.open(post_path).convert('RGB')\n",
    "\n",
    "    return pre_img, post_img\n",
    "\n",
    "# --- example usage: ---\n",
    "label_file   = '../data/train/labels/guatemala-volcano_00000000_post_disaster.json'\n",
    "images_root  = '../data/train/images'   # contains subfolders pre_disaster/ and post_disaster/\n",
    "\n",
    "pre, post = load_pair_from_label(label_file, images_root)\n",
    "\n",
    "# display side by side\n",
    "fig, (ax1, ax2) = plt.subplots(1,2, figsize=(10,5))\n",
    "ax1.imshow(pre);  ax1.set_title(\"Pre-disaster\");  ax1.axis('off')\n",
    "ax2.imshow(post); ax2.set_title(\"Post-disaster\"); ax2.axis('off')\n",
    "plt.tight_layout()\n",
    "plt.show()\n"
   ]
  },
  {
   "cell_type": "code",
   "execution_count": null,
   "id": "babb850e",
   "metadata": {},
   "outputs": [],
   "source": []
  },
  {
   "cell_type": "code",
   "execution_count": 12,
   "id": "82ec0f39",
   "metadata": {},
   "outputs": [
    {
     "name": "stdout",
     "output_type": "stream",
     "text": [
      "min, max, mean pixel values: 0 4 0.052032470703125\n"
     ]
    },
    {
     "data": {
      "image/png": "[encoded data removed]",
      "text/plain": [
       "<Figure size 640x480 with 1 Axes>"
      ]
     },
     "metadata": {},
     "output_type": "display_data"
    }
   ],
   "source": [
    "from PIL import Image\n",
    "import matplotlib.pyplot as plt\n",
    "import numpy as np\n",
    "import os\n",
    "\n",
    "# pick one filename you know is “black” after transform\n",
    "fn = os.listdir(\"../data/train/targets\")[0]\n",
    "raw = Image.open(f\"../data/train/targets/{fn}\").convert(\"RGB\")\n",
    "arr = np.array(raw)\n",
    "\n",
    "print(\"min, max, mean pixel values:\", arr.min(), arr.max(), arr.mean())\n",
    "plt.imshow(arr); plt.title(fn); plt.axis(\"off\"); plt.show()\n"
   ]
  },
  {
   "cell_type": "code",
   "execution_count": 11,
   "id": "1a71c31d",
   "metadata": {},
   "outputs": [
    {
     "name": "stdout",
     "output_type": "stream",
     "text": [
      "total 4096\n",
      "drwx------@ 1 leojiang  staff  655360 Apr  6  2020 \u001b[34mimages\u001b[m\u001b[m\n",
      "drwx------@ 1 leojiang  staff  655360 Apr  6  2020 \u001b[34mlabels\u001b[m\u001b[m\n",
      "drwx------@ 1 leojiang  staff  786432 Apr  6  2020 \u001b[34mtargets\u001b[m\u001b[m\n"
     ]
    }
   ],
   "source": [
    "!ls -l ../data/test/\n"
   ]
  },
  {
   "cell_type": "code",
   "execution_count": null,
   "id": "a87e9834",
   "metadata": {},
   "outputs": [],
   "source": []
  }
 ],
 "metadata": {
  "kernelspec": {
   "display_name": "xbd_scratch",
   "language": "python",
   "name": "python3"
  },
  "language_info": {
   "codemirror_mode": {
    "name": "ipython",
    "version": 3
   },
   "file_extension": ".py",
   "mimetype": "text/x-python",
   "name": "python",
   "nbconvert_exporter": "python",
   "pygments_lexer": "ipython3",
   "version": "3.9.22"
  }
 },
 "nbformat": 4,
 "nbformat_minor": 5
}
